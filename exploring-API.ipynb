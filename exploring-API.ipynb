{
 "cells": [
  {
   "cell_type": "markdown",
   "metadata": {},
   "source": [
    "## Exploring Unsplash API"
   ]
  },
  {
   "cell_type": "code",
   "execution_count": 8,
   "metadata": {},
   "outputs": [],
   "source": [
    "import requests"
   ]
  },
  {
   "cell_type": "code",
   "execution_count": 3,
   "metadata": {},
   "outputs": [],
   "source": [
    "api_response = requests.get('https://api.unsplash.com/photos/random?client_id=YOUR_ACCESS')"
   ]
  },
  {
   "cell_type": "code",
   "execution_count": 11,
   "metadata": {},
   "outputs": [
    {
     "data": {
      "text/plain": [
       "200"
      ]
     },
     "execution_count": 11,
     "metadata": {},
     "output_type": "execute_result"
    }
   ],
   "source": [
    "api_response.status_code"
   ]
  },
  {
   "cell_type": "code",
   "execution_count": 4,
   "metadata": {},
   "outputs": [],
   "source": [
    "data = api_response.json()\n",
    "# data"
   ]
  },
  {
   "cell_type": "code",
   "execution_count": 5,
   "metadata": {},
   "outputs": [
    {
     "data": {
      "text/plain": [
       "dict_keys(['id', 'slug', 'alternative_slugs', 'created_at', 'updated_at', 'promoted_at', 'width', 'height', 'color', 'blur_hash', 'description', 'alt_description', 'breadcrumbs', 'urls', 'links', 'likes', 'liked_by_user', 'current_user_collections', 'sponsorship', 'topic_submissions', 'asset_type', 'user', 'exif', 'location', 'meta', 'public_domain', 'tags', 'views', 'downloads', 'topics'])"
      ]
     },
     "execution_count": 5,
     "metadata": {},
     "output_type": "execute_result"
    }
   ],
   "source": [
    "data.keys()"
   ]
  },
  {
   "cell_type": "code",
   "execution_count": 6,
   "metadata": {},
   "outputs": [
    {
     "data": {
      "text/plain": [
       "{'raw': 'https://images.unsplash.com/photo-1727459740748-a0004bd98ed6?ixid=M3w2NzAyMjd8MHwxfHJhbmRvbXx8fHx8fHx8fDE3MzAyNTY5NDR8&ixlib=rb-4.0.3',\n",
       " 'full': 'https://images.unsplash.com/photo-1727459740748-a0004bd98ed6?crop=entropy&cs=srgb&fm=jpg&ixid=M3w2NzAyMjd8MHwxfHJhbmRvbXx8fHx8fHx8fDE3MzAyNTY5NDR8&ixlib=rb-4.0.3&q=85',\n",
       " 'regular': 'https://images.unsplash.com/photo-1727459740748-a0004bd98ed6?crop=entropy&cs=tinysrgb&fit=max&fm=jpg&ixid=M3w2NzAyMjd8MHwxfHJhbmRvbXx8fHx8fHx8fDE3MzAyNTY5NDR8&ixlib=rb-4.0.3&q=80&w=1080',\n",
       " 'small': 'https://images.unsplash.com/photo-1727459740748-a0004bd98ed6?crop=entropy&cs=tinysrgb&fit=max&fm=jpg&ixid=M3w2NzAyMjd8MHwxfHJhbmRvbXx8fHx8fHx8fDE3MzAyNTY5NDR8&ixlib=rb-4.0.3&q=80&w=400',\n",
       " 'thumb': 'https://images.unsplash.com/photo-1727459740748-a0004bd98ed6?crop=entropy&cs=tinysrgb&fit=max&fm=jpg&ixid=M3w2NzAyMjd8MHwxfHJhbmRvbXx8fHx8fHx8fDE3MzAyNTY5NDR8&ixlib=rb-4.0.3&q=80&w=200',\n",
       " 'small_s3': 'https://s3.us-west-2.amazonaws.com/images.unsplash.com/small/photo-1727459740748-a0004bd98ed6'}"
      ]
     },
     "execution_count": 6,
     "metadata": {},
     "output_type": "execute_result"
    }
   ],
   "source": [
    "data['urls']"
   ]
  },
  {
   "cell_type": "code",
   "execution_count": 7,
   "metadata": {},
   "outputs": [
    {
     "data": {
      "text/plain": [
       "'https://images.unsplash.com/photo-1727459740748-a0004bd98ed6?crop=entropy&cs=tinysrgb&fit=max&fm=jpg&ixid=M3w2NzAyMjd8MHwxfHJhbmRvbXx8fHx8fHx8fDE3MzAyNTY5NDR8&ixlib=rb-4.0.3&q=80&w=1080'"
      ]
     },
     "execution_count": 7,
     "metadata": {},
     "output_type": "execute_result"
    }
   ],
   "source": [
    "data['urls']['regular']"
   ]
  },
  {
   "cell_type": "code",
   "execution_count": null,
   "metadata": {},
   "outputs": [],
   "source": []
  }
 ],
 "metadata": {
  "kernelspec": {
   "display_name": "base",
   "language": "python",
   "name": "python3"
  },
  "language_info": {
   "codemirror_mode": {
    "name": "ipython",
    "version": 3
   },
   "file_extension": ".py",
   "mimetype": "text/x-python",
   "name": "python",
   "nbconvert_exporter": "python",
   "pygments_lexer": "ipython3",
   "version": "3.7.6"
  }
 },
 "nbformat": 4,
 "nbformat_minor": 2
}
